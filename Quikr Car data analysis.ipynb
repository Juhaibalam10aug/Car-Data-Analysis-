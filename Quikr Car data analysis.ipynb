{
 "cells": [
  {
   "cell_type": "markdown",
   "id": "5342e729",
   "metadata": {},
   "source": [
    "#  Data Cleaning and EDA of Quikr Car data"
   ]
  },
  {
   "cell_type": "code",
   "execution_count": 1,
   "id": "b374db49",
   "metadata": {},
   "outputs": [],
   "source": [
    "# importing Warnings to ignore future warnings\n",
    "import warnings\n",
    "warnings.filterwarnings(\"ignore\")"
   ]
  },
  {
   "cell_type": "code",
   "execution_count": 2,
   "id": "da8c5bff",
   "metadata": {},
   "outputs": [],
   "source": [
    "#importing libraries\n",
    "import pandas as pd \n",
    "import numpy as np\n",
    "import matplotlib.pyplot as plt\n",
    "import seaborn as sns"
   ]
  },
  {
   "cell_type": "code",
   "execution_count": 3,
   "id": "20db286a",
   "metadata": {},
   "outputs": [],
   "source": [
    "# importing data set\n",
    "data = pd.read_csv(\"Quikr_car.csv\")"
   ]
  },
  {
   "cell_type": "code",
   "execution_count": 4,
   "id": "a72d4eaa",
   "metadata": {},
   "outputs": [
    {
     "data": {
      "text/html": [
       "<div>\n",
       "<style scoped>\n",
       "    .dataframe tbody tr th:only-of-type {\n",
       "        vertical-align: middle;\n",
       "    }\n",
       "\n",
       "    .dataframe tbody tr th {\n",
       "        vertical-align: top;\n",
       "    }\n",
       "\n",
       "    .dataframe thead th {\n",
       "        text-align: right;\n",
       "    }\n",
       "</style>\n",
       "<table border=\"1\" class=\"dataframe\">\n",
       "  <thead>\n",
       "    <tr style=\"text-align: right;\">\n",
       "      <th></th>\n",
       "      <th>Unnamed: 0</th>\n",
       "      <th>Name</th>\n",
       "      <th>Label</th>\n",
       "      <th>Location</th>\n",
       "      <th>Price</th>\n",
       "      <th>Kms_driven</th>\n",
       "      <th>Fuel_type</th>\n",
       "      <th>Owner</th>\n",
       "      <th>Year</th>\n",
       "      <th>Company</th>\n",
       "    </tr>\n",
       "  </thead>\n",
       "  <tbody>\n",
       "    <tr>\n",
       "      <th>0</th>\n",
       "      <td>0</td>\n",
       "      <td>Ford Figo Duratec Petrol EXI 1.2 - 2015</td>\n",
       "      <td>PLATINUM</td>\n",
       "      <td>Bangalore</td>\n",
       "      <td>₹3,80,000</td>\n",
       "      <td>35,056 kms</td>\n",
       "      <td>Petrol</td>\n",
       "      <td>NaN</td>\n",
       "      <td>2015</td>\n",
       "      <td>Ford</td>\n",
       "    </tr>\n",
       "    <tr>\n",
       "      <th>1</th>\n",
       "      <td>1</td>\n",
       "      <td>Maruti Suzuki Wagon R VXI BS IV - 2016</td>\n",
       "      <td>PLATINUM</td>\n",
       "      <td>Bangalore</td>\n",
       "      <td>₹4,65,000</td>\n",
       "      <td>44,000 kms</td>\n",
       "      <td>Petrol</td>\n",
       "      <td>NaN</td>\n",
       "      <td>2016</td>\n",
       "      <td>Maruti</td>\n",
       "    </tr>\n",
       "    <tr>\n",
       "      <th>2</th>\n",
       "      <td>2</td>\n",
       "      <td>Hyundai Creta 1.6 SX PLUS AUTO PETROL - 2018</td>\n",
       "      <td>PLATINUM</td>\n",
       "      <td>Bangalore</td>\n",
       "      <td>₹13,50,000</td>\n",
       "      <td>42,917 kms</td>\n",
       "      <td>Petrol</td>\n",
       "      <td>NaN</td>\n",
       "      <td>2018</td>\n",
       "      <td>Hyundai</td>\n",
       "    </tr>\n",
       "    <tr>\n",
       "      <th>3</th>\n",
       "      <td>3</td>\n",
       "      <td>Hyundai Venue - 2019</td>\n",
       "      <td>PLATINUM</td>\n",
       "      <td>Chennai</td>\n",
       "      <td>₹10,19,699</td>\n",
       "      <td>16,112 kms</td>\n",
       "      <td>Petrol</td>\n",
       "      <td>2nd Owner</td>\n",
       "      <td>2019</td>\n",
       "      <td>Hyundai</td>\n",
       "    </tr>\n",
       "    <tr>\n",
       "      <th>4</th>\n",
       "      <td>4</td>\n",
       "      <td>Honda Jazz - 2017</td>\n",
       "      <td>PLATINUM</td>\n",
       "      <td>Pune</td>\n",
       "      <td>₹7,13,499</td>\n",
       "      <td>30,988 kms</td>\n",
       "      <td>Petrol</td>\n",
       "      <td>2nd Owner</td>\n",
       "      <td>2017</td>\n",
       "      <td>Honda</td>\n",
       "    </tr>\n",
       "  </tbody>\n",
       "</table>\n",
       "</div>"
      ],
      "text/plain": [
       "   Unnamed: 0                                          Name     Label  \\\n",
       "0           0       Ford Figo Duratec Petrol EXI 1.2 - 2015  PLATINUM   \n",
       "1           1        Maruti Suzuki Wagon R VXI BS IV - 2016  PLATINUM   \n",
       "2           2  Hyundai Creta 1.6 SX PLUS AUTO PETROL - 2018  PLATINUM   \n",
       "3           3                          Hyundai Venue - 2019  PLATINUM   \n",
       "4           4                             Honda Jazz - 2017  PLATINUM   \n",
       "\n",
       "    Location       Price   Kms_driven Fuel_type       Owner  Year  Company  \n",
       "0  Bangalore   ₹3,80,000  35,056 kms     Petrol         NaN  2015     Ford  \n",
       "1  Bangalore   ₹4,65,000  44,000 kms     Petrol         NaN  2016   Maruti  \n",
       "2  Bangalore  ₹13,50,000  42,917 kms     Petrol         NaN  2018  Hyundai  \n",
       "3    Chennai  ₹10,19,699  16,112 kms    Petrol    2nd Owner  2019  Hyundai  \n",
       "4       Pune   ₹7,13,499  30,988 kms    Petrol    2nd Owner  2017    Honda  "
      ]
     },
     "execution_count": 4,
     "metadata": {},
     "output_type": "execute_result"
    }
   ],
   "source": [
    "data.head()"
   ]
  },
  {
   "cell_type": "code",
   "execution_count": 5,
   "id": "fd9c69da",
   "metadata": {},
   "outputs": [
    {
     "data": {
      "text/html": [
       "<div>\n",
       "<style scoped>\n",
       "    .dataframe tbody tr th:only-of-type {\n",
       "        vertical-align: middle;\n",
       "    }\n",
       "\n",
       "    .dataframe tbody tr th {\n",
       "        vertical-align: top;\n",
       "    }\n",
       "\n",
       "    .dataframe thead th {\n",
       "        text-align: right;\n",
       "    }\n",
       "</style>\n",
       "<table border=\"1\" class=\"dataframe\">\n",
       "  <thead>\n",
       "    <tr style=\"text-align: right;\">\n",
       "      <th></th>\n",
       "      <th>Unnamed: 0</th>\n",
       "      <th>Name</th>\n",
       "      <th>Label</th>\n",
       "      <th>Location</th>\n",
       "      <th>Price</th>\n",
       "      <th>Kms_driven</th>\n",
       "      <th>Fuel_type</th>\n",
       "      <th>Owner</th>\n",
       "      <th>Year</th>\n",
       "      <th>Company</th>\n",
       "    </tr>\n",
       "  </thead>\n",
       "  <tbody>\n",
       "    <tr>\n",
       "      <th>1027</th>\n",
       "      <td>1027</td>\n",
       "      <td>Hyundai i10 Magna 1.2 - 2014</td>\n",
       "      <td>GOLD</td>\n",
       "      <td>Bangalore</td>\n",
       "      <td>₹2,29,000</td>\n",
       "      <td>65,000 kms</td>\n",
       "      <td>Petrol</td>\n",
       "      <td>1st Owner</td>\n",
       "      <td>2014</td>\n",
       "      <td>Hyundai</td>\n",
       "    </tr>\n",
       "    <tr>\n",
       "      <th>1028</th>\n",
       "      <td>1028</td>\n",
       "      <td>Maruti Suzuki Alto K10 LXi CNG - 2014</td>\n",
       "      <td>GOLD</td>\n",
       "      <td>Bangalore</td>\n",
       "      <td>₹2,75,000</td>\n",
       "      <td>60,000 kms</td>\n",
       "      <td>Petrol</td>\n",
       "      <td>NaN</td>\n",
       "      <td>2014</td>\n",
       "      <td>Maruti</td>\n",
       "    </tr>\n",
       "    <tr>\n",
       "      <th>1029</th>\n",
       "      <td>1029</td>\n",
       "      <td>Jeep Compass Limited 2.0 Diesel - 2017</td>\n",
       "      <td>GOLD</td>\n",
       "      <td>Mahasamund</td>\n",
       "      <td>₹17,50,000</td>\n",
       "      <td>31,000 kms</td>\n",
       "      <td>Diesel</td>\n",
       "      <td>1st Owner</td>\n",
       "      <td>2017</td>\n",
       "      <td>Jeep</td>\n",
       "    </tr>\n",
       "    <tr>\n",
       "      <th>1030</th>\n",
       "      <td>1030</td>\n",
       "      <td>Jeep Compass Limited 2.0 Diesel - 2017</td>\n",
       "      <td>GOLD</td>\n",
       "      <td>Bilaspur</td>\n",
       "      <td>₹17,50,000</td>\n",
       "      <td>31,000 kms</td>\n",
       "      <td>Diesel</td>\n",
       "      <td>1st Owner</td>\n",
       "      <td>2017</td>\n",
       "      <td>Jeep</td>\n",
       "    </tr>\n",
       "    <tr>\n",
       "      <th>1031</th>\n",
       "      <td>1031</td>\n",
       "      <td>Jeep Compass Limited 2.0 Diesel - 2017</td>\n",
       "      <td>GOLD</td>\n",
       "      <td>Jagdalpur</td>\n",
       "      <td>₹17,50,000</td>\n",
       "      <td>31,000 kms</td>\n",
       "      <td>Diesel</td>\n",
       "      <td>1st Owner</td>\n",
       "      <td>2017</td>\n",
       "      <td>Jeep</td>\n",
       "    </tr>\n",
       "  </tbody>\n",
       "</table>\n",
       "</div>"
      ],
      "text/plain": [
       "      Unnamed: 0                                    Name Label    Location  \\\n",
       "1027        1027            Hyundai i10 Magna 1.2 - 2014  GOLD   Bangalore   \n",
       "1028        1028   Maruti Suzuki Alto K10 LXi CNG - 2014  GOLD   Bangalore   \n",
       "1029        1029  Jeep Compass Limited 2.0 Diesel - 2017  GOLD  Mahasamund   \n",
       "1030        1030  Jeep Compass Limited 2.0 Diesel - 2017  GOLD    Bilaspur   \n",
       "1031        1031  Jeep Compass Limited 2.0 Diesel - 2017  GOLD   Jagdalpur   \n",
       "\n",
       "           Price   Kms_driven Fuel_type       Owner  Year  Company  \n",
       "1027   ₹2,29,000  65,000 kms    Petrol    1st Owner  2014  Hyundai  \n",
       "1028   ₹2,75,000  60,000 kms     Petrol         NaN  2014   Maruti  \n",
       "1029  ₹17,50,000  31,000 kms    Diesel    1st Owner  2017     Jeep  \n",
       "1030  ₹17,50,000  31,000 kms    Diesel    1st Owner  2017     Jeep  \n",
       "1031  ₹17,50,000  31,000 kms    Diesel    1st Owner  2017     Jeep  "
      ]
     },
     "execution_count": 5,
     "metadata": {},
     "output_type": "execute_result"
    }
   ],
   "source": [
    "data.tail()"
   ]
  },
  {
   "cell_type": "code",
   "execution_count": 6,
   "id": "34a3005b",
   "metadata": {},
   "outputs": [
    {
     "data": {
      "text/plain": [
       "(1032, 10)"
      ]
     },
     "execution_count": 6,
     "metadata": {},
     "output_type": "execute_result"
    }
   ],
   "source": [
    "data.shape"
   ]
  },
  {
   "cell_type": "code",
   "execution_count": 7,
   "id": "39cf632e",
   "metadata": {},
   "outputs": [
    {
     "data": {
      "text/plain": [
       "10320"
      ]
     },
     "execution_count": 7,
     "metadata": {},
     "output_type": "execute_result"
    }
   ],
   "source": [
    "data.size"
   ]
  },
  {
   "cell_type": "code",
   "execution_count": 8,
   "id": "f9fdb3cd",
   "metadata": {},
   "outputs": [
    {
     "name": "stdout",
     "output_type": "stream",
     "text": [
      "<class 'pandas.core.frame.DataFrame'>\n",
      "RangeIndex: 1032 entries, 0 to 1031\n",
      "Data columns (total 10 columns):\n",
      " #   Column      Non-Null Count  Dtype \n",
      "---  ------      --------------  ----- \n",
      " 0   Unnamed: 0  1032 non-null   int64 \n",
      " 1   Name        1032 non-null   object\n",
      " 2   Label       1032 non-null   object\n",
      " 3   Location    1030 non-null   object\n",
      " 4   Price       1032 non-null   object\n",
      " 5   Kms_driven  1032 non-null   object\n",
      " 6   Fuel_type   1032 non-null   object\n",
      " 7   Owner       740 non-null    object\n",
      " 8   Year        1032 non-null   int64 \n",
      " 9   Company     1032 non-null   object\n",
      "dtypes: int64(2), object(8)\n",
      "memory usage: 80.8+ KB\n"
     ]
    }
   ],
   "source": [
    "data.info()"
   ]
  },
  {
   "cell_type": "markdown",
   "id": "73c6cd00",
   "metadata": {},
   "source": [
    "# Data Cleaning"
   ]
  },
  {
   "cell_type": "code",
   "execution_count": 9,
   "id": "79f60cf7",
   "metadata": {},
   "outputs": [],
   "source": [
    "# There is no need of unnamed column that's why I am dropping it\n",
    "\n",
    "data.drop([\"Unnamed: 0\"],axis = 1,inplace = True)"
   ]
  },
  {
   "cell_type": "code",
   "execution_count": 10,
   "id": "24e7d9a1",
   "metadata": {},
   "outputs": [],
   "source": [
    "#pd.set_option(\"display.max_rows\",None)\n",
    "#data"
   ]
  },
  {
   "cell_type": "code",
   "execution_count": 11,
   "id": "5a3695ba",
   "metadata": {},
   "outputs": [
    {
     "name": "stdout",
     "output_type": "stream",
     "text": [
      "11\n"
     ]
    },
    {
     "data": {
      "text/html": [
       "<div>\n",
       "<style scoped>\n",
       "    .dataframe tbody tr th:only-of-type {\n",
       "        vertical-align: middle;\n",
       "    }\n",
       "\n",
       "    .dataframe tbody tr th {\n",
       "        vertical-align: top;\n",
       "    }\n",
       "\n",
       "    .dataframe thead th {\n",
       "        text-align: right;\n",
       "    }\n",
       "</style>\n",
       "<table border=\"1\" class=\"dataframe\">\n",
       "  <thead>\n",
       "    <tr style=\"text-align: right;\">\n",
       "      <th></th>\n",
       "      <th>Name</th>\n",
       "      <th>Label</th>\n",
       "      <th>Location</th>\n",
       "      <th>Price</th>\n",
       "      <th>Kms_driven</th>\n",
       "      <th>Fuel_type</th>\n",
       "      <th>Owner</th>\n",
       "      <th>Year</th>\n",
       "      <th>Company</th>\n",
       "    </tr>\n",
       "  </thead>\n",
       "  <tbody>\n",
       "    <tr>\n",
       "      <th>49</th>\n",
       "      <td>Maruti Suzuki Baleno - 2018</td>\n",
       "      <td>PLATINUM</td>\n",
       "      <td>Pune</td>\n",
       "      <td>₹6,18,699</td>\n",
       "      <td>68,934 kms</td>\n",
       "      <td>Petrol</td>\n",
       "      <td>2nd Owner</td>\n",
       "      <td>2018</td>\n",
       "      <td>Maruti</td>\n",
       "    </tr>\n",
       "    <tr>\n",
       "      <th>144</th>\n",
       "      <td>Renault Kwid - 2019</td>\n",
       "      <td>PLATINUM</td>\n",
       "      <td>Pune</td>\n",
       "      <td>₹5,04,599</td>\n",
       "      <td>2,311 kms</td>\n",
       "      <td>Petrol</td>\n",
       "      <td>2nd Owner</td>\n",
       "      <td>2019</td>\n",
       "      <td>Renault</td>\n",
       "    </tr>\n",
       "    <tr>\n",
       "      <th>288</th>\n",
       "      <td>Hyundai Creta - 2020</td>\n",
       "      <td>PLATINUM</td>\n",
       "      <td>Pune</td>\n",
       "      <td>₹18,04,399</td>\n",
       "      <td>14,506 kms</td>\n",
       "      <td>Petrol</td>\n",
       "      <td>2nd Owner</td>\n",
       "      <td>2020</td>\n",
       "      <td>Hyundai</td>\n",
       "    </tr>\n",
       "    <tr>\n",
       "      <th>312</th>\n",
       "      <td>Maruti Suzuki Celerio VXi - 2019</td>\n",
       "      <td>PLATINUM</td>\n",
       "      <td>Chennai</td>\n",
       "      <td>₹5,24,799</td>\n",
       "      <td>5,743 kms</td>\n",
       "      <td>Petrol</td>\n",
       "      <td>1st Owner</td>\n",
       "      <td>2019</td>\n",
       "      <td>Maruti</td>\n",
       "    </tr>\n",
       "    <tr>\n",
       "      <th>403</th>\n",
       "      <td>Hyundai Santro - 2002</td>\n",
       "      <td>GOLD</td>\n",
       "      <td>Chennai</td>\n",
       "      <td>₹89,000</td>\n",
       "      <td>85,000 kms</td>\n",
       "      <td>Petrol</td>\n",
       "      <td>NaN</td>\n",
       "      <td>2002</td>\n",
       "      <td>Hyundai</td>\n",
       "    </tr>\n",
       "    <tr>\n",
       "      <th>495</th>\n",
       "      <td>MG Motors Hector Sharp 2.0 Diesel - 2019</td>\n",
       "      <td>PLATINUM</td>\n",
       "      <td>Bangalore</td>\n",
       "      <td>₹18,00,299</td>\n",
       "      <td>11,292 kms</td>\n",
       "      <td>Diesel</td>\n",
       "      <td>2nd Owner</td>\n",
       "      <td>2019</td>\n",
       "      <td>MG</td>\n",
       "    </tr>\n",
       "    <tr>\n",
       "      <th>663</th>\n",
       "      <td>MG Motors Hector Sharp 2.0 Diesel - 2019</td>\n",
       "      <td>PLATINUM</td>\n",
       "      <td>Bangalore</td>\n",
       "      <td>₹19,17,599</td>\n",
       "      <td>10,205 kms</td>\n",
       "      <td>Diesel</td>\n",
       "      <td>2nd Owner</td>\n",
       "      <td>2019</td>\n",
       "      <td>MG</td>\n",
       "    </tr>\n",
       "    <tr>\n",
       "      <th>696</th>\n",
       "      <td>Hyundai i20 Asta 1.2 - 2011</td>\n",
       "      <td>PLATINUM</td>\n",
       "      <td>Bangalore</td>\n",
       "      <td>₹3,99,999</td>\n",
       "      <td>83,803 kms</td>\n",
       "      <td>Petrol</td>\n",
       "      <td>1st Owner</td>\n",
       "      <td>2011</td>\n",
       "      <td>Hyundai</td>\n",
       "    </tr>\n",
       "    <tr>\n",
       "      <th>754</th>\n",
       "      <td>MG Motors Hector - 2020</td>\n",
       "      <td>PLATINUM</td>\n",
       "      <td>Bangalore</td>\n",
       "      <td>₹16,81,899</td>\n",
       "      <td>6,760 kms</td>\n",
       "      <td>Petrol</td>\n",
       "      <td>2nd Owner</td>\n",
       "      <td>2020</td>\n",
       "      <td>MG</td>\n",
       "    </tr>\n",
       "    <tr>\n",
       "      <th>864</th>\n",
       "      <td>Hyundai Grand i10 Sportz 1.2 Kappa VTVT - 2018</td>\n",
       "      <td>PLATINUM</td>\n",
       "      <td>Chennai</td>\n",
       "      <td>₹4,96,199</td>\n",
       "      <td>21,790 kms</td>\n",
       "      <td>Petrol</td>\n",
       "      <td>1st Owner</td>\n",
       "      <td>2018</td>\n",
       "      <td>Hyundai</td>\n",
       "    </tr>\n",
       "    <tr>\n",
       "      <th>880</th>\n",
       "      <td>Chevrolet Optra - 2005</td>\n",
       "      <td>GOLD</td>\n",
       "      <td>Chennai</td>\n",
       "      <td>₹69,000</td>\n",
       "      <td>85,000 kms</td>\n",
       "      <td>Petrol</td>\n",
       "      <td>NaN</td>\n",
       "      <td>2005</td>\n",
       "      <td>Chevrolet</td>\n",
       "    </tr>\n",
       "  </tbody>\n",
       "</table>\n",
       "</div>"
      ],
      "text/plain": [
       "                                               Name     Label   Location  \\\n",
       "49                      Maruti Suzuki Baleno - 2018  PLATINUM       Pune   \n",
       "144                             Renault Kwid - 2019  PLATINUM       Pune   \n",
       "288                            Hyundai Creta - 2020  PLATINUM       Pune   \n",
       "312                Maruti Suzuki Celerio VXi - 2019  PLATINUM    Chennai   \n",
       "403                           Hyundai Santro - 2002      GOLD    Chennai   \n",
       "495        MG Motors Hector Sharp 2.0 Diesel - 2019  PLATINUM  Bangalore   \n",
       "663        MG Motors Hector Sharp 2.0 Diesel - 2019  PLATINUM  Bangalore   \n",
       "696                     Hyundai i20 Asta 1.2 - 2011  PLATINUM  Bangalore   \n",
       "754                         MG Motors Hector - 2020  PLATINUM  Bangalore   \n",
       "864  Hyundai Grand i10 Sportz 1.2 Kappa VTVT - 2018  PLATINUM    Chennai   \n",
       "880                          Chevrolet Optra - 2005      GOLD    Chennai   \n",
       "\n",
       "          Price   Kms_driven Fuel_type       Owner  Year    Company  \n",
       "49    ₹6,18,699  68,934 kms    Petrol    2nd Owner  2018     Maruti  \n",
       "144   ₹5,04,599   2,311 kms    Petrol    2nd Owner  2019    Renault  \n",
       "288  ₹18,04,399  14,506 kms    Petrol    2nd Owner  2020    Hyundai  \n",
       "312   ₹5,24,799   5,743 kms    Petrol    1st Owner  2019     Maruti  \n",
       "403     ₹89,000  85,000 kms     Petrol         NaN  2002    Hyundai  \n",
       "495  ₹18,00,299  11,292 kms    Diesel    2nd Owner  2019         MG  \n",
       "663  ₹19,17,599  10,205 kms    Diesel    2nd Owner  2019         MG  \n",
       "696   ₹3,99,999  83,803 kms    Petrol    1st Owner  2011    Hyundai  \n",
       "754  ₹16,81,899   6,760 kms    Petrol    2nd Owner  2020         MG  \n",
       "864   ₹4,96,199  21,790 kms    Petrol    1st Owner  2018    Hyundai  \n",
       "880     ₹69,000  85,000 kms     Petrol         NaN  2005  Chevrolet  "
      ]
     },
     "execution_count": 11,
     "metadata": {},
     "output_type": "execute_result"
    }
   ],
   "source": [
    "# Checking duplicate Entry\n",
    "a = data.duplicated(keep = \"first\").sum()\n",
    "print(a)\n",
    "data.loc[data.duplicated(keep = \"first\"),:]"
   ]
  },
  {
   "cell_type": "markdown",
   "id": "2778ccd0",
   "metadata": {},
   "source": [
    "### 11 Duplicates entry are in dataset as we may see above"
   ]
  },
  {
   "cell_type": "code",
   "execution_count": 12,
   "id": "420f8743",
   "metadata": {},
   "outputs": [],
   "source": [
    "# Removing duplicate\n",
    "data = data.drop_duplicates()"
   ]
  },
  {
   "cell_type": "code",
   "execution_count": 13,
   "id": "d5d409ae",
   "metadata": {},
   "outputs": [
    {
     "data": {
      "text/plain": [
       "0"
      ]
     },
     "execution_count": 13,
     "metadata": {},
     "output_type": "execute_result"
    }
   ],
   "source": [
    "data.duplicated().sum()"
   ]
  },
  {
   "cell_type": "code",
   "execution_count": 14,
   "id": "4304709c",
   "metadata": {},
   "outputs": [
    {
     "data": {
      "text/plain": [
       "Name            0\n",
       "Label           0\n",
       "Location        2\n",
       "Price           0\n",
       "Kms_driven      0\n",
       "Fuel_type       0\n",
       "Owner         290\n",
       "Year            0\n",
       "Company         0\n",
       "dtype: int64"
      ]
     },
     "execution_count": 14,
     "metadata": {},
     "output_type": "execute_result"
    }
   ],
   "source": [
    "# Checking Null values\n",
    "data.isnull().sum()"
   ]
  },
  {
   "cell_type": "code",
   "execution_count": 15,
   "id": "db8702a5",
   "metadata": {},
   "outputs": [],
   "source": [
    "#imputing null values with mode\n",
    "data[\"Location\"] =data[\"Location\"].fillna(data[\"Location\"].mode()[0])\n",
    "data[\"Owner\"]= data[\"Owner\"].fillna(data[\"Owner\"].mode()[0])"
   ]
  },
  {
   "cell_type": "code",
   "execution_count": 16,
   "id": "4da956fc",
   "metadata": {},
   "outputs": [],
   "source": [
    "# removing rupees column from price columns \n",
    "data[\"Price\"] = [x.strip(\"₹\") for x in data[\"Price\"]]\n",
    "data[\"Price\"] = data[\"Price\"].str.replace(\",\",\"\")\n"
   ]
  },
  {
   "cell_type": "code",
   "execution_count": 17,
   "id": "e5a51a76",
   "metadata": {},
   "outputs": [],
   "source": [
    "#removing kms from kms_driven column\n",
    "data[\"Kms_driven\"] = data[\"Kms_driven\"].str.split().str.get(0)"
   ]
  },
  {
   "cell_type": "code",
   "execution_count": 18,
   "id": "99ee0625",
   "metadata": {},
   "outputs": [],
   "source": [
    "# Removing comma \n",
    "data[\"Kms_driven\"] = data[\"Kms_driven\"].str.replace(\",\",\"\")"
   ]
  },
  {
   "cell_type": "code",
   "execution_count": 19,
   "id": "65966545",
   "metadata": {},
   "outputs": [],
   "source": [
    "data = data[data[\"Price\"]!='Ask For Price'] "
   ]
  },
  {
   "cell_type": "code",
   "execution_count": 20,
   "id": "31ff976c",
   "metadata": {},
   "outputs": [],
   "source": [
    "#Changing data type of columns\n",
    "data[\"Kms_driven\"] = data[\"Kms_driven\"].astype(\"int\")\n",
    "data[\"Price\"] = data[\"Price\"].astype(\"int\")\n",
    "data[\"Year\"] = data[\"Year\"].astype(\"int\")"
   ]
  },
  {
   "cell_type": "code",
   "execution_count": 21,
   "id": "61fcf2e5",
   "metadata": {},
   "outputs": [
    {
     "data": {
      "text/plain": [
       "Name          object\n",
       "Label         object\n",
       "Location      object\n",
       "Price          int32\n",
       "Kms_driven     int32\n",
       "Fuel_type     object\n",
       "Owner         object\n",
       "Year           int32\n",
       "Company       object\n",
       "dtype: object"
      ]
     },
     "execution_count": 21,
     "metadata": {},
     "output_type": "execute_result"
    }
   ],
   "source": [
    "#changing data types of columns\n",
    "data.dtypes"
   ]
  },
  {
   "cell_type": "code",
   "execution_count": 22,
   "id": "1e7471c3",
   "metadata": {},
   "outputs": [],
   "source": [
    "data[\"Name\"] = data[\"Name\"].str.split().str.slice(0,3).str.join(\" \")"
   ]
  },
  {
   "cell_type": "code",
   "execution_count": 23,
   "id": "112fa9ca",
   "metadata": {},
   "outputs": [
    {
     "data": {
      "text/html": [
       "<div>\n",
       "<style scoped>\n",
       "    .dataframe tbody tr th:only-of-type {\n",
       "        vertical-align: middle;\n",
       "    }\n",
       "\n",
       "    .dataframe tbody tr th {\n",
       "        vertical-align: top;\n",
       "    }\n",
       "\n",
       "    .dataframe thead th {\n",
       "        text-align: right;\n",
       "    }\n",
       "</style>\n",
       "<table border=\"1\" class=\"dataframe\">\n",
       "  <thead>\n",
       "    <tr style=\"text-align: right;\">\n",
       "      <th></th>\n",
       "      <th>Name</th>\n",
       "      <th>Label</th>\n",
       "      <th>Location</th>\n",
       "      <th>Price</th>\n",
       "      <th>Kms_driven</th>\n",
       "      <th>Fuel_type</th>\n",
       "      <th>Owner</th>\n",
       "      <th>Year</th>\n",
       "      <th>Company</th>\n",
       "    </tr>\n",
       "  </thead>\n",
       "  <tbody>\n",
       "    <tr>\n",
       "      <th>0</th>\n",
       "      <td>Ford Figo Duratec</td>\n",
       "      <td>PLATINUM</td>\n",
       "      <td>Bangalore</td>\n",
       "      <td>380000</td>\n",
       "      <td>35056</td>\n",
       "      <td>Petrol</td>\n",
       "      <td>2nd Owner</td>\n",
       "      <td>2015</td>\n",
       "      <td>Ford</td>\n",
       "    </tr>\n",
       "    <tr>\n",
       "      <th>1</th>\n",
       "      <td>Maruti Suzuki Wagon</td>\n",
       "      <td>PLATINUM</td>\n",
       "      <td>Bangalore</td>\n",
       "      <td>465000</td>\n",
       "      <td>44000</td>\n",
       "      <td>Petrol</td>\n",
       "      <td>2nd Owner</td>\n",
       "      <td>2016</td>\n",
       "      <td>Maruti</td>\n",
       "    </tr>\n",
       "    <tr>\n",
       "      <th>2</th>\n",
       "      <td>Hyundai Creta 1.6</td>\n",
       "      <td>PLATINUM</td>\n",
       "      <td>Bangalore</td>\n",
       "      <td>1350000</td>\n",
       "      <td>42917</td>\n",
       "      <td>Petrol</td>\n",
       "      <td>2nd Owner</td>\n",
       "      <td>2018</td>\n",
       "      <td>Hyundai</td>\n",
       "    </tr>\n",
       "    <tr>\n",
       "      <th>3</th>\n",
       "      <td>Hyundai Venue -</td>\n",
       "      <td>PLATINUM</td>\n",
       "      <td>Chennai</td>\n",
       "      <td>1019699</td>\n",
       "      <td>16112</td>\n",
       "      <td>Petrol</td>\n",
       "      <td>2nd Owner</td>\n",
       "      <td>2019</td>\n",
       "      <td>Hyundai</td>\n",
       "    </tr>\n",
       "    <tr>\n",
       "      <th>4</th>\n",
       "      <td>Honda Jazz -</td>\n",
       "      <td>PLATINUM</td>\n",
       "      <td>Pune</td>\n",
       "      <td>713499</td>\n",
       "      <td>30988</td>\n",
       "      <td>Petrol</td>\n",
       "      <td>2nd Owner</td>\n",
       "      <td>2017</td>\n",
       "      <td>Honda</td>\n",
       "    </tr>\n",
       "    <tr>\n",
       "      <th>...</th>\n",
       "      <td>...</td>\n",
       "      <td>...</td>\n",
       "      <td>...</td>\n",
       "      <td>...</td>\n",
       "      <td>...</td>\n",
       "      <td>...</td>\n",
       "      <td>...</td>\n",
       "      <td>...</td>\n",
       "      <td>...</td>\n",
       "    </tr>\n",
       "    <tr>\n",
       "      <th>1027</th>\n",
       "      <td>Hyundai i10 Magna</td>\n",
       "      <td>GOLD</td>\n",
       "      <td>Bangalore</td>\n",
       "      <td>229000</td>\n",
       "      <td>65000</td>\n",
       "      <td>Petrol</td>\n",
       "      <td>1st Owner</td>\n",
       "      <td>2014</td>\n",
       "      <td>Hyundai</td>\n",
       "    </tr>\n",
       "    <tr>\n",
       "      <th>1028</th>\n",
       "      <td>Maruti Suzuki Alto</td>\n",
       "      <td>GOLD</td>\n",
       "      <td>Bangalore</td>\n",
       "      <td>275000</td>\n",
       "      <td>60000</td>\n",
       "      <td>Petrol</td>\n",
       "      <td>2nd Owner</td>\n",
       "      <td>2014</td>\n",
       "      <td>Maruti</td>\n",
       "    </tr>\n",
       "    <tr>\n",
       "      <th>1029</th>\n",
       "      <td>Jeep Compass Limited</td>\n",
       "      <td>GOLD</td>\n",
       "      <td>Mahasamund</td>\n",
       "      <td>1750000</td>\n",
       "      <td>31000</td>\n",
       "      <td>Diesel</td>\n",
       "      <td>1st Owner</td>\n",
       "      <td>2017</td>\n",
       "      <td>Jeep</td>\n",
       "    </tr>\n",
       "    <tr>\n",
       "      <th>1030</th>\n",
       "      <td>Jeep Compass Limited</td>\n",
       "      <td>GOLD</td>\n",
       "      <td>Bilaspur</td>\n",
       "      <td>1750000</td>\n",
       "      <td>31000</td>\n",
       "      <td>Diesel</td>\n",
       "      <td>1st Owner</td>\n",
       "      <td>2017</td>\n",
       "      <td>Jeep</td>\n",
       "    </tr>\n",
       "    <tr>\n",
       "      <th>1031</th>\n",
       "      <td>Jeep Compass Limited</td>\n",
       "      <td>GOLD</td>\n",
       "      <td>Jagdalpur</td>\n",
       "      <td>1750000</td>\n",
       "      <td>31000</td>\n",
       "      <td>Diesel</td>\n",
       "      <td>1st Owner</td>\n",
       "      <td>2017</td>\n",
       "      <td>Jeep</td>\n",
       "    </tr>\n",
       "  </tbody>\n",
       "</table>\n",
       "<p>1015 rows × 9 columns</p>\n",
       "</div>"
      ],
      "text/plain": [
       "                      Name     Label    Location    Price  Kms_driven  \\\n",
       "0        Ford Figo Duratec  PLATINUM   Bangalore   380000       35056   \n",
       "1      Maruti Suzuki Wagon  PLATINUM   Bangalore   465000       44000   \n",
       "2        Hyundai Creta 1.6  PLATINUM   Bangalore  1350000       42917   \n",
       "3          Hyundai Venue -  PLATINUM     Chennai  1019699       16112   \n",
       "4             Honda Jazz -  PLATINUM        Pune   713499       30988   \n",
       "...                    ...       ...         ...      ...         ...   \n",
       "1027     Hyundai i10 Magna      GOLD   Bangalore   229000       65000   \n",
       "1028    Maruti Suzuki Alto      GOLD   Bangalore   275000       60000   \n",
       "1029  Jeep Compass Limited      GOLD  Mahasamund  1750000       31000   \n",
       "1030  Jeep Compass Limited      GOLD    Bilaspur  1750000       31000   \n",
       "1031  Jeep Compass Limited      GOLD   Jagdalpur  1750000       31000   \n",
       "\n",
       "     Fuel_type       Owner  Year  Company  \n",
       "0       Petrol   2nd Owner  2015     Ford  \n",
       "1       Petrol   2nd Owner  2016   Maruti  \n",
       "2       Petrol   2nd Owner  2018  Hyundai  \n",
       "3      Petrol    2nd Owner  2019  Hyundai  \n",
       "4      Petrol    2nd Owner  2017    Honda  \n",
       "...        ...         ...   ...      ...  \n",
       "1027   Petrol    1st Owner  2014  Hyundai  \n",
       "1028    Petrol   2nd Owner  2014   Maruti  \n",
       "1029   Diesel    1st Owner  2017     Jeep  \n",
       "1030   Diesel    1st Owner  2017     Jeep  \n",
       "1031   Diesel    1st Owner  2017     Jeep  \n",
       "\n",
       "[1015 rows x 9 columns]"
      ]
     },
     "execution_count": 23,
     "metadata": {},
     "output_type": "execute_result"
    }
   ],
   "source": [
    "data"
   ]
  },
  {
   "cell_type": "code",
   "execution_count": 24,
   "id": "223bb834",
   "metadata": {},
   "outputs": [
    {
     "data": {
      "text/html": [
       "<div>\n",
       "<style scoped>\n",
       "    .dataframe tbody tr th:only-of-type {\n",
       "        vertical-align: middle;\n",
       "    }\n",
       "\n",
       "    .dataframe tbody tr th {\n",
       "        vertical-align: top;\n",
       "    }\n",
       "\n",
       "    .dataframe thead th {\n",
       "        text-align: right;\n",
       "    }\n",
       "</style>\n",
       "<table border=\"1\" class=\"dataframe\">\n",
       "  <thead>\n",
       "    <tr style=\"text-align: right;\">\n",
       "      <th></th>\n",
       "      <th>Price</th>\n",
       "      <th>Kms_driven</th>\n",
       "      <th>Year</th>\n",
       "    </tr>\n",
       "  </thead>\n",
       "  <tbody>\n",
       "    <tr>\n",
       "      <th>count</th>\n",
       "      <td>1.015000e+03</td>\n",
       "      <td>1015.000000</td>\n",
       "      <td>1015.000000</td>\n",
       "    </tr>\n",
       "    <tr>\n",
       "      <th>mean</th>\n",
       "      <td>6.833843e+05</td>\n",
       "      <td>50455.159606</td>\n",
       "      <td>2015.813793</td>\n",
       "    </tr>\n",
       "    <tr>\n",
       "      <th>std</th>\n",
       "      <td>5.349478e+05</td>\n",
       "      <td>38152.088766</td>\n",
       "      <td>3.361196</td>\n",
       "    </tr>\n",
       "    <tr>\n",
       "      <th>min</th>\n",
       "      <td>3.900000e+04</td>\n",
       "      <td>0.000000</td>\n",
       "      <td>2000.000000</td>\n",
       "    </tr>\n",
       "    <tr>\n",
       "      <th>25%</th>\n",
       "      <td>4.107990e+05</td>\n",
       "      <td>26535.000000</td>\n",
       "      <td>2014.000000</td>\n",
       "    </tr>\n",
       "    <tr>\n",
       "      <th>50%</th>\n",
       "      <td>5.577990e+05</td>\n",
       "      <td>44000.000000</td>\n",
       "      <td>2016.000000</td>\n",
       "    </tr>\n",
       "    <tr>\n",
       "      <th>75%</th>\n",
       "      <td>7.870990e+05</td>\n",
       "      <td>67291.000000</td>\n",
       "      <td>2018.000000</td>\n",
       "    </tr>\n",
       "    <tr>\n",
       "      <th>max</th>\n",
       "      <td>7.500000e+06</td>\n",
       "      <td>690000.000000</td>\n",
       "      <td>2022.000000</td>\n",
       "    </tr>\n",
       "  </tbody>\n",
       "</table>\n",
       "</div>"
      ],
      "text/plain": [
       "              Price     Kms_driven         Year\n",
       "count  1.015000e+03    1015.000000  1015.000000\n",
       "mean   6.833843e+05   50455.159606  2015.813793\n",
       "std    5.349478e+05   38152.088766     3.361196\n",
       "min    3.900000e+04       0.000000  2000.000000\n",
       "25%    4.107990e+05   26535.000000  2014.000000\n",
       "50%    5.577990e+05   44000.000000  2016.000000\n",
       "75%    7.870990e+05   67291.000000  2018.000000\n",
       "max    7.500000e+06  690000.000000  2022.000000"
      ]
     },
     "execution_count": 24,
     "metadata": {},
     "output_type": "execute_result"
    }
   ],
   "source": [
    "data.describe()"
   ]
  },
  {
   "cell_type": "markdown",
   "id": "43a80080",
   "metadata": {},
   "source": [
    "# EDA"
   ]
  },
  {
   "cell_type": "code",
   "execution_count": 25,
   "id": "85ffc3c7",
   "metadata": {},
   "outputs": [
    {
     "data": {
      "text/plain": [
       "PLATINUM    678\n",
       "GOLD        337\n",
       "Name: Label, dtype: int64"
      ]
     },
     "execution_count": 25,
     "metadata": {},
     "output_type": "execute_result"
    }
   ],
   "source": [
    "data[\"Label\"].value_counts()"
   ]
  },
  {
   "cell_type": "code",
   "execution_count": 26,
   "id": "bd913911",
   "metadata": {},
   "outputs": [
    {
     "data": {
      "image/png": "[encoded data removed]",
      "text/plain": [
       "<Figure size 864x504 with 1 Axes>"
      ]
     },
     "metadata": {},
     "output_type": "display_data"
    }
   ],
   "source": [
    "plt.figure(figsize = (12,7))\n",
    "plt.pie(data[\"Label\"].value_counts(),labels = [\"PLATINUM\",\"GOLD\"],autopct = \"%.2f%%\");\n",
    "plt.title(\"Platinum Vs Gold\");"
   ]
  },
  {
   "cell_type": "markdown",
   "id": "4f9a2f94",
   "metadata": {},
   "source": [
    "### Observation :- 66.80% Cars Were Platinum labels and 33.20% Cars were Gold labeled "
   ]
  },
  {
   "cell_type": "code",
   "execution_count": 27,
   "id": "16ad3585",
   "metadata": {},
   "outputs": [
    {
     "data": {
      "text/plain": [
       "Pune         322\n",
       "Chennai      308\n",
       "Bangalore    252\n",
       "Mumbai        19\n",
       "Kolkata       19\n",
       "Madurai       12\n",
       "Hyderabad     11\n",
       "Jaipur        10\n",
       "Delhi         10\n",
       "Trichy         8\n",
       "Name: Location, dtype: int64"
      ]
     },
     "execution_count": 27,
     "metadata": {},
     "output_type": "execute_result"
    }
   ],
   "source": [
    "data[\"Location\"].value_counts().head(10)"
   ]
  },
  {
   "cell_type": "code",
   "execution_count": 28,
   "id": "ddf10d9c",
   "metadata": {},
   "outputs": [
    {
     "data": {
      "image/png": "[encoded data removed]",
      "text/plain": [
       "<Figure size 864x504 with 1 Axes>"
      ]
     },
     "metadata": {
      "needs_background": "light"
     },
     "output_type": "display_data"
    }
   ],
   "source": [
    "plt.figure(figsize = (12,7))\n",
    "sns.barplot(x =data[\"Location\"].value_counts().head(10).index,y = data[\"Location\"].value_counts().head(10).values )\n",
    "plt.title(\"Car Sold in cities\");\n",
    "for index,value in enumerate(data[\"Location\"].value_counts().head(10).values):\n",
    "    plt.text(index,value,str(value),ha = \"center\", va =\"bottom\")"
   ]
  },
  {
   "cell_type": "markdown",
   "id": "b9c566fc",
   "metadata": {},
   "source": [
    "### Observation :- Here are top 10 cities where cars have sold and top 3 are Pune, Chennai, Bangalore"
   ]
  },
  {
   "cell_type": "code",
   "execution_count": 29,
   "id": "9f1f7355",
   "metadata": {},
   "outputs": [
    {
     "data": {
      "text/plain": [
       "Maruti        381\n",
       "Hyundai       222\n",
       "Honda          79\n",
       "Ford           51\n",
       "Tata           44\n",
       "Renault        42\n",
       "Toyota         41\n",
       "Mahindra       41\n",
       "Volkswagen     29\n",
       "MG             14\n",
       "Name: Company, dtype: int64"
      ]
     },
     "execution_count": 29,
     "metadata": {},
     "output_type": "execute_result"
    }
   ],
   "source": [
    "company = data[\"Company\"].value_counts().head(10)\n",
    "company"
   ]
  },
  {
   "cell_type": "code",
   "execution_count": 30,
   "id": "68af8e1d",
   "metadata": {},
   "outputs": [
    {
     "data": {
      "image/png": "[encoded data removed]",
      "text/plain": [
       "<Figure size 864x504 with 1 Axes>"
      ]
     },
     "metadata": {
      "needs_background": "light"
     },
     "output_type": "display_data"
    }
   ],
   "source": [
    "plt.figure(figsize = (12,7))\n",
    "sns.barplot(x =company.index,y = company.values );\n",
    "plt.title(\"Car Vs Top 10 Companies\");\n",
    "for index,value in enumerate(company.values):\n",
    "    plt.text(index,value,str(value),ha = \"center\", va =\"bottom\")"
   ]
  },
  {
   "cell_type": "markdown",
   "id": "2f767c52",
   "metadata": {},
   "source": [
    "### Observation :- Maruti and Hyundai company's cars have sold more"
   ]
  },
  {
   "cell_type": "code",
   "execution_count": 31,
   "id": "ec2a7c7c",
   "metadata": {},
   "outputs": [
    {
     "data": {
      "text/html": [
       "<div>\n",
       "<style scoped>\n",
       "    .dataframe tbody tr th:only-of-type {\n",
       "        vertical-align: middle;\n",
       "    }\n",
       "\n",
       "    .dataframe tbody tr th {\n",
       "        vertical-align: top;\n",
       "    }\n",
       "\n",
       "    .dataframe thead th {\n",
       "        text-align: right;\n",
       "    }\n",
       "</style>\n",
       "<table border=\"1\" class=\"dataframe\">\n",
       "  <thead>\n",
       "    <tr style=\"text-align: right;\">\n",
       "      <th></th>\n",
       "      <th>Year</th>\n",
       "      <th>Total_Cars</th>\n",
       "    </tr>\n",
       "  </thead>\n",
       "  <tbody>\n",
       "    <tr>\n",
       "      <th>0</th>\n",
       "      <td>2000</td>\n",
       "      <td>1</td>\n",
       "    </tr>\n",
       "    <tr>\n",
       "      <th>1</th>\n",
       "      <td>2001</td>\n",
       "      <td>3</td>\n",
       "    </tr>\n",
       "    <tr>\n",
       "      <th>2</th>\n",
       "      <td>2002</td>\n",
       "      <td>2</td>\n",
       "    </tr>\n",
       "    <tr>\n",
       "      <th>3</th>\n",
       "      <td>2003</td>\n",
       "      <td>1</td>\n",
       "    </tr>\n",
       "    <tr>\n",
       "      <th>4</th>\n",
       "      <td>2004</td>\n",
       "      <td>2</td>\n",
       "    </tr>\n",
       "    <tr>\n",
       "      <th>5</th>\n",
       "      <td>2005</td>\n",
       "      <td>5</td>\n",
       "    </tr>\n",
       "    <tr>\n",
       "      <th>6</th>\n",
       "      <td>2006</td>\n",
       "      <td>5</td>\n",
       "    </tr>\n",
       "    <tr>\n",
       "      <th>7</th>\n",
       "      <td>2007</td>\n",
       "      <td>17</td>\n",
       "    </tr>\n",
       "    <tr>\n",
       "      <th>8</th>\n",
       "      <td>2008</td>\n",
       "      <td>9</td>\n",
       "    </tr>\n",
       "    <tr>\n",
       "      <th>9</th>\n",
       "      <td>2009</td>\n",
       "      <td>11</td>\n",
       "    </tr>\n",
       "    <tr>\n",
       "      <th>10</th>\n",
       "      <td>2010</td>\n",
       "      <td>19</td>\n",
       "    </tr>\n",
       "    <tr>\n",
       "      <th>11</th>\n",
       "      <td>2011</td>\n",
       "      <td>32</td>\n",
       "    </tr>\n",
       "    <tr>\n",
       "      <th>12</th>\n",
       "      <td>2012</td>\n",
       "      <td>38</td>\n",
       "    </tr>\n",
       "    <tr>\n",
       "      <th>13</th>\n",
       "      <td>2013</td>\n",
       "      <td>46</td>\n",
       "    </tr>\n",
       "    <tr>\n",
       "      <th>14</th>\n",
       "      <td>2014</td>\n",
       "      <td>66</td>\n",
       "    </tr>\n",
       "    <tr>\n",
       "      <th>15</th>\n",
       "      <td>2015</td>\n",
       "      <td>96</td>\n",
       "    </tr>\n",
       "    <tr>\n",
       "      <th>16</th>\n",
       "      <td>2016</td>\n",
       "      <td>160</td>\n",
       "    </tr>\n",
       "    <tr>\n",
       "      <th>17</th>\n",
       "      <td>2017</td>\n",
       "      <td>160</td>\n",
       "    </tr>\n",
       "    <tr>\n",
       "      <th>18</th>\n",
       "      <td>2018</td>\n",
       "      <td>152</td>\n",
       "    </tr>\n",
       "    <tr>\n",
       "      <th>19</th>\n",
       "      <td>2019</td>\n",
       "      <td>114</td>\n",
       "    </tr>\n",
       "    <tr>\n",
       "      <th>20</th>\n",
       "      <td>2020</td>\n",
       "      <td>52</td>\n",
       "    </tr>\n",
       "    <tr>\n",
       "      <th>21</th>\n",
       "      <td>2021</td>\n",
       "      <td>22</td>\n",
       "    </tr>\n",
       "    <tr>\n",
       "      <th>22</th>\n",
       "      <td>2022</td>\n",
       "      <td>2</td>\n",
       "    </tr>\n",
       "  </tbody>\n",
       "</table>\n",
       "</div>"
      ],
      "text/plain": [
       "    Year  Total_Cars\n",
       "0   2000           1\n",
       "1   2001           3\n",
       "2   2002           2\n",
       "3   2003           1\n",
       "4   2004           2\n",
       "5   2005           5\n",
       "6   2006           5\n",
       "7   2007          17\n",
       "8   2008           9\n",
       "9   2009          11\n",
       "10  2010          19\n",
       "11  2011          32\n",
       "12  2012          38\n",
       "13  2013          46\n",
       "14  2014          66\n",
       "15  2015          96\n",
       "16  2016         160\n",
       "17  2017         160\n",
       "18  2018         152\n",
       "19  2019         114\n",
       "20  2020          52\n",
       "21  2021          22\n",
       "22  2022           2"
      ]
     },
     "execution_count": 31,
     "metadata": {},
     "output_type": "execute_result"
    }
   ],
   "source": [
    "Year = data.groupby([\"Year\"]).agg({\"Name\":\"count\"}).reset_index()\n",
    "Year.columns = [\"Year\",\"Total_Cars\"]\n",
    "Year"
   ]
  },
  {
   "cell_type": "code",
   "execution_count": 32,
   "id": "f1c3232d",
   "metadata": {},
   "outputs": [
    {
     "data": {
      "image/png": "[encoded data removed]",
      "text/plain": [
       "<Figure size 864x504 with 1 Axes>"
      ]
     },
     "metadata": {
      "needs_background": "light"
     },
     "output_type": "display_data"
    }
   ],
   "source": [
    "plt.figure(figsize = (12,7))\n",
    "plt.plot(Year[\"Year\"],Year[\"Total_Cars\"],marker='o',linewidth=3)\n",
    "plt.grid()\n"
   ]
  },
  {
   "cell_type": "markdown",
   "id": "73c63450",
   "metadata": {},
   "source": [
    "### Observation :- Most of the car have sold in year between 2014 to 2020"
   ]
  },
  {
   "cell_type": "code",
   "execution_count": 33,
   "id": "1747e30a",
   "metadata": {},
   "outputs": [
    {
     "data": {
      "text/html": [
       "<div>\n",
       "<style scoped>\n",
       "    .dataframe tbody tr th:only-of-type {\n",
       "        vertical-align: middle;\n",
       "    }\n",
       "\n",
       "    .dataframe tbody tr th {\n",
       "        vertical-align: top;\n",
       "    }\n",
       "\n",
       "    .dataframe thead th {\n",
       "        text-align: right;\n",
       "    }\n",
       "</style>\n",
       "<table border=\"1\" class=\"dataframe\">\n",
       "  <thead>\n",
       "    <tr style=\"text-align: right;\">\n",
       "      <th></th>\n",
       "      <th>Location</th>\n",
       "      <th>Label</th>\n",
       "      <th>Name</th>\n",
       "    </tr>\n",
       "  </thead>\n",
       "  <tbody>\n",
       "    <tr>\n",
       "      <th>37</th>\n",
       "      <td>Pune</td>\n",
       "      <td>PLATINUM</td>\n",
       "      <td>280</td>\n",
       "    </tr>\n",
       "    <tr>\n",
       "      <th>3</th>\n",
       "      <td>Bangalore</td>\n",
       "      <td>PLATINUM</td>\n",
       "      <td>204</td>\n",
       "    </tr>\n",
       "    <tr>\n",
       "      <th>9</th>\n",
       "      <td>Chennai</td>\n",
       "      <td>PLATINUM</td>\n",
       "      <td>193</td>\n",
       "    </tr>\n",
       "    <tr>\n",
       "      <th>8</th>\n",
       "      <td>Chennai</td>\n",
       "      <td>GOLD</td>\n",
       "      <td>115</td>\n",
       "    </tr>\n",
       "    <tr>\n",
       "      <th>2</th>\n",
       "      <td>Bangalore</td>\n",
       "      <td>GOLD</td>\n",
       "      <td>48</td>\n",
       "    </tr>\n",
       "    <tr>\n",
       "      <th>36</th>\n",
       "      <td>Pune</td>\n",
       "      <td>GOLD</td>\n",
       "      <td>42</td>\n",
       "    </tr>\n",
       "    <tr>\n",
       "      <th>30</th>\n",
       "      <td>Mumbai</td>\n",
       "      <td>GOLD</td>\n",
       "      <td>19</td>\n",
       "    </tr>\n",
       "    <tr>\n",
       "      <th>22</th>\n",
       "      <td>Kolkata</td>\n",
       "      <td>GOLD</td>\n",
       "      <td>18</td>\n",
       "    </tr>\n",
       "    <tr>\n",
       "      <th>27</th>\n",
       "      <td>Madurai</td>\n",
       "      <td>GOLD</td>\n",
       "      <td>12</td>\n",
       "    </tr>\n",
       "    <tr>\n",
       "      <th>17</th>\n",
       "      <td>Hyderabad</td>\n",
       "      <td>GOLD</td>\n",
       "      <td>11</td>\n",
       "    </tr>\n",
       "  </tbody>\n",
       "</table>\n",
       "</div>"
      ],
      "text/plain": [
       "     Location     Label  Name\n",
       "37       Pune  PLATINUM   280\n",
       "3   Bangalore  PLATINUM   204\n",
       "9     Chennai  PLATINUM   193\n",
       "8     Chennai      GOLD   115\n",
       "2   Bangalore      GOLD    48\n",
       "36       Pune      GOLD    42\n",
       "30     Mumbai      GOLD    19\n",
       "22    Kolkata      GOLD    18\n",
       "27    Madurai      GOLD    12\n",
       "17  Hyderabad      GOLD    11"
      ]
     },
     "execution_count": 33,
     "metadata": {},
     "output_type": "execute_result"
    }
   ],
   "source": [
    "location_Label = data.groupby([\"Location\",\"Label\"]).agg({\"Name\":\"count\"}).reset_index().sort_values(by= \"Name\",ascending = False)\n",
    "location_Label.head(10)"
   ]
  },
  {
   "cell_type": "markdown",
   "id": "3d627d26",
   "metadata": {},
   "source": [
    "### Observation :- Sold Quantity of  Platimun Labeled cars were more in Pune, Banglore,Chennai"
   ]
  },
  {
   "cell_type": "code",
   "execution_count": 34,
   "id": "79576f61",
   "metadata": {},
   "outputs": [
    {
     "data": {
      "text/html": [
       "<div>\n",
       "<style scoped>\n",
       "    .dataframe tbody tr th:only-of-type {\n",
       "        vertical-align: middle;\n",
       "    }\n",
       "\n",
       "    .dataframe tbody tr th {\n",
       "        vertical-align: top;\n",
       "    }\n",
       "\n",
       "    .dataframe thead th {\n",
       "        text-align: right;\n",
       "    }\n",
       "</style>\n",
       "<table border=\"1\" class=\"dataframe\">\n",
       "  <thead>\n",
       "    <tr style=\"text-align: right;\">\n",
       "      <th></th>\n",
       "      <th>Location</th>\n",
       "      <th>Company</th>\n",
       "      <th>Name</th>\n",
       "    </tr>\n",
       "  </thead>\n",
       "  <tbody>\n",
       "    <tr>\n",
       "      <th>121</th>\n",
       "      <td>Pune</td>\n",
       "      <td>Maruti</td>\n",
       "      <td>131</td>\n",
       "    </tr>\n",
       "    <tr>\n",
       "      <th>37</th>\n",
       "      <td>Chennai</td>\n",
       "      <td>Maruti</td>\n",
       "      <td>126</td>\n",
       "    </tr>\n",
       "    <tr>\n",
       "      <th>14</th>\n",
       "      <td>Bangalore</td>\n",
       "      <td>Maruti</td>\n",
       "      <td>93</td>\n",
       "    </tr>\n",
       "    <tr>\n",
       "      <th>31</th>\n",
       "      <td>Chennai</td>\n",
       "      <td>Hyundai</td>\n",
       "      <td>75</td>\n",
       "    </tr>\n",
       "    <tr>\n",
       "      <th>116</th>\n",
       "      <td>Pune</td>\n",
       "      <td>Hyundai</td>\n",
       "      <td>74</td>\n",
       "    </tr>\n",
       "    <tr>\n",
       "      <th>10</th>\n",
       "      <td>Bangalore</td>\n",
       "      <td>Hyundai</td>\n",
       "      <td>57</td>\n",
       "    </tr>\n",
       "    <tr>\n",
       "      <th>115</th>\n",
       "      <td>Pune</td>\n",
       "      <td>Honda</td>\n",
       "      <td>25</td>\n",
       "    </tr>\n",
       "    <tr>\n",
       "      <th>114</th>\n",
       "      <td>Pune</td>\n",
       "      <td>Ford</td>\n",
       "      <td>21</td>\n",
       "    </tr>\n",
       "    <tr>\n",
       "      <th>9</th>\n",
       "      <td>Bangalore</td>\n",
       "      <td>Honda</td>\n",
       "      <td>21</td>\n",
       "    </tr>\n",
       "    <tr>\n",
       "      <th>30</th>\n",
       "      <td>Chennai</td>\n",
       "      <td>Honda</td>\n",
       "      <td>17</td>\n",
       "    </tr>\n",
       "  </tbody>\n",
       "</table>\n",
       "</div>"
      ],
      "text/plain": [
       "      Location  Company  Name\n",
       "121       Pune   Maruti   131\n",
       "37     Chennai   Maruti   126\n",
       "14   Bangalore   Maruti    93\n",
       "31     Chennai  Hyundai    75\n",
       "116       Pune  Hyundai    74\n",
       "10   Bangalore  Hyundai    57\n",
       "115       Pune    Honda    25\n",
       "114       Pune     Ford    21\n",
       "9    Bangalore    Honda    21\n",
       "30     Chennai    Honda    17"
      ]
     },
     "execution_count": 34,
     "metadata": {},
     "output_type": "execute_result"
    }
   ],
   "source": [
    "Location2 = data.groupby([\"Location\",\"Company\"]).agg({\"Name\":\"count\"}).reset_index().sort_values(by= \"Name\",ascending = False)\n",
    "Location2.head(10)"
   ]
  },
  {
   "cell_type": "markdown",
   "id": "c305fd52",
   "metadata": {},
   "source": [
    "### Observation :- The Companies of car which have sold in Pune, Banglore,Chennai was Maruti"
   ]
  },
  {
   "cell_type": "code",
   "execution_count": 35,
   "id": "2a45e3fe",
   "metadata": {},
   "outputs": [
    {
     "data": {
      "text/html": [
       "<div>\n",
       "<style scoped>\n",
       "    .dataframe tbody tr th:only-of-type {\n",
       "        vertical-align: middle;\n",
       "    }\n",
       "\n",
       "    .dataframe tbody tr th {\n",
       "        vertical-align: top;\n",
       "    }\n",
       "\n",
       "    .dataframe thead th {\n",
       "        text-align: right;\n",
       "    }\n",
       "</style>\n",
       "<table border=\"1\" class=\"dataframe\">\n",
       "  <thead>\n",
       "    <tr style=\"text-align: right;\">\n",
       "      <th></th>\n",
       "      <th>Year</th>\n",
       "      <th>Company</th>\n",
       "      <th>Name</th>\n",
       "    </tr>\n",
       "  </thead>\n",
       "  <tbody>\n",
       "    <tr>\n",
       "      <th>128</th>\n",
       "      <td>2017</td>\n",
       "      <td>Maruti</td>\n",
       "      <td>78</td>\n",
       "    </tr>\n",
       "    <tr>\n",
       "      <th>113</th>\n",
       "      <td>2016</td>\n",
       "      <td>Maruti</td>\n",
       "      <td>66</td>\n",
       "    </tr>\n",
       "    <tr>\n",
       "      <th>141</th>\n",
       "      <td>2018</td>\n",
       "      <td>Maruti</td>\n",
       "      <td>65</td>\n",
       "    </tr>\n",
       "    <tr>\n",
       "      <th>110</th>\n",
       "      <td>2016</td>\n",
       "      <td>Hyundai</td>\n",
       "      <td>49</td>\n",
       "    </tr>\n",
       "    <tr>\n",
       "      <th>154</th>\n",
       "      <td>2019</td>\n",
       "      <td>Maruti</td>\n",
       "      <td>47</td>\n",
       "    </tr>\n",
       "    <tr>\n",
       "      <th>101</th>\n",
       "      <td>2015</td>\n",
       "      <td>Maruti</td>\n",
       "      <td>34</td>\n",
       "    </tr>\n",
       "    <tr>\n",
       "      <th>125</th>\n",
       "      <td>2017</td>\n",
       "      <td>Hyundai</td>\n",
       "      <td>31</td>\n",
       "    </tr>\n",
       "    <tr>\n",
       "      <th>99</th>\n",
       "      <td>2015</td>\n",
       "      <td>Hyundai</td>\n",
       "      <td>26</td>\n",
       "    </tr>\n",
       "    <tr>\n",
       "      <th>90</th>\n",
       "      <td>2014</td>\n",
       "      <td>Maruti</td>\n",
       "      <td>26</td>\n",
       "    </tr>\n",
       "    <tr>\n",
       "      <th>138</th>\n",
       "      <td>2018</td>\n",
       "      <td>Hyundai</td>\n",
       "      <td>26</td>\n",
       "    </tr>\n",
       "  </tbody>\n",
       "</table>\n",
       "</div>"
      ],
      "text/plain": [
       "     Year  Company  Name\n",
       "128  2017   Maruti    78\n",
       "113  2016   Maruti    66\n",
       "141  2018   Maruti    65\n",
       "110  2016  Hyundai    49\n",
       "154  2019   Maruti    47\n",
       "101  2015   Maruti    34\n",
       "125  2017  Hyundai    31\n",
       "99   2015  Hyundai    26\n",
       "90   2014   Maruti    26\n",
       "138  2018  Hyundai    26"
      ]
     },
     "execution_count": 35,
     "metadata": {},
     "output_type": "execute_result"
    }
   ],
   "source": [
    "Location2 = data.groupby([\"Year\",\"Company\"]).agg({\"Name\":\"count\"}).reset_index().sort_values(by= \"Name\",ascending = False)\n",
    "Location2.head(10)"
   ]
  },
  {
   "cell_type": "markdown",
   "id": "d5d771a8",
   "metadata": {},
   "source": [
    "### Observation:- The cars which have sold between year 2014 to 2020 were of Maruti And Hyundai company's"
   ]
  },
  {
   "cell_type": "code",
   "execution_count": 36,
   "id": "9297fb6e",
   "metadata": {},
   "outputs": [
    {
     "data": {
      "text/plain": [
       " Petrol           564\n",
       " Diesel           156\n",
       " Petrol           151\n",
       " Diesel           131\n",
       " CNG                4\n",
       " CNG                3\n",
       " Electric           2\n",
       " Petrol + CNG       2\n",
       " LPG                1\n",
       " Hybrid             1\n",
       "Name: Fuel_type, dtype: int64"
      ]
     },
     "execution_count": 36,
     "metadata": {},
     "output_type": "execute_result"
    }
   ],
   "source": [
    "data[\"Fuel_type\"].value_counts()"
   ]
  },
  {
   "cell_type": "markdown",
   "id": "14c834fb",
   "metadata": {},
   "source": [
    "### As I have deleted duplicate value while data cleaning but still showing duplicate value above "
   ]
  },
  {
   "cell_type": "code",
   "execution_count": 37,
   "id": "d38b5cfa",
   "metadata": {},
   "outputs": [],
   "source": [
    "# Fixing above issue \n",
    "data[\"Fuel_type\"] = data[\"Fuel_type\"].str.strip()"
   ]
  },
  {
   "cell_type": "code",
   "execution_count": 38,
   "id": "a5e0b4f0",
   "metadata": {},
   "outputs": [
    {
     "data": {
      "text/plain": [
       "Petrol          715\n",
       "Diesel          287\n",
       "CNG               7\n",
       "Electric          2\n",
       "Petrol + CNG      2\n",
       "LPG               1\n",
       "Hybrid            1\n",
       "Name: Fuel_type, dtype: int64"
      ]
     },
     "execution_count": 38,
     "metadata": {},
     "output_type": "execute_result"
    }
   ],
   "source": [
    "fuel = data[\"Fuel_type\"].value_counts()\n",
    "fuel"
   ]
  },
  {
   "cell_type": "code",
   "execution_count": 39,
   "id": "696382f8",
   "metadata": {},
   "outputs": [
    {
     "data": {
      "image/png": "[encoded data removed]",
      "text/plain": [
       "<Figure size 864x504 with 1 Axes>"
      ]
     },
     "metadata": {
      "needs_background": "light"
     },
     "output_type": "display_data"
    }
   ],
   "source": [
    "plt.figure(figsize = (12,7))\n",
    "sns.barplot(x = fuel.index, y = fuel.values)\n",
    "plt.title(\"Car_Sold Vs Fuel_type\");\n",
    "for index,value in enumerate(fuel.values):\n",
    "    plt.text(index,value,str(value),ha = \"center\",va = \"bottom\")\n"
   ]
  },
  {
   "cell_type": "markdown",
   "id": "047aa98a",
   "metadata": {},
   "source": [
    "### Obseravtion:- Most of car's fuel type was Petrol"
   ]
  },
  {
   "cell_type": "code",
   "execution_count": null,
   "id": "e1c76290",
   "metadata": {},
   "outputs": [],
   "source": []
  },
  {
   "cell_type": "markdown",
   "id": "1f14052d",
   "metadata": {},
   "source": []
  }
 ],
 "metadata": {
  "kernelspec": {
   "display_name": "Python 3 (ipykernel)",
   "language": "python",
   "name": "python3"
  },
  "language_info": {
   "codemirror_mode": {
    "name": "ipython",
    "version": 3
   },
   "file_extension": ".py",
   "mimetype": "text/x-python",
   "name": "python",
   "nbconvert_exporter": "python",
   "pygments_lexer": "ipython3",
   "version": "3.9.12"
  }
 },
 "nbformat": 4,
 "nbformat_minor": 5
}
